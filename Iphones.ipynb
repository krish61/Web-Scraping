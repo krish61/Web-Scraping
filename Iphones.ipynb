{
 "cells": [
  {
   "cell_type": "markdown",
   "metadata": {},
   "source": [
    "# Web scraping \n",
    " It's the process of extracting information from a web page by taking advantage of patterns in the web page's underlying code. Let's start looking for these patterns!"
   ]
  },
  {
   "cell_type": "markdown",
   "metadata": {},
   "source": [
    "## Need of Web Scraping\n",
    "You need to fetch some information from the website.To do so,copy and paste the data displayed by the website which is very\n",
    "tough job that may take many hours.That's why,we use web scraping(extract information by code)"
   ]
  },
  {
   "cell_type": "markdown",
   "metadata": {},
   "source": [
    "## Benefits of Scraping Solution \n",
    "In order to remain competitive, businesses must be able to act quickly and assuredly in the markets. Web Scraping plays a big role in the development of various business organizations that use the services. The benefits of these services are: "
   ]
  },
  {
   "cell_type": "markdown",
   "metadata": {},
   "source": [
    "## 1) Low Cost \n",
    "Web Scraping service saves hundreds of thousands of man-hours and money as  the use of scraping service completely avoids manual work.  \n"
   ]
  },
  {
   "cell_type": "markdown",
   "metadata": {},
   "source": [
    "## 2) Less Time  \n",
    "Scraping solution not only helps to lower the cost, it also reduces the time involved in data extraction task.  This tool ensures and gathers fast results required by people. \n"
   ]
  },
  {
   "cell_type": "markdown",
   "metadata": {},
   "source": [
    "## 3) Accurate Results \n",
    "Web Scraping solutions help to get the most accurate and fast results that cannot be collected by human beings. It generates correct product pricing data, sales leads, duplication of online database, captures real estate data, financial data, job postings, auction information and many more.  \n"
   ]
  },
  {
   "cell_type": "markdown",
   "metadata": {},
   "source": [
    "## Steps in Scraping\n",
    "- Document Load\n",
    "- Parsing\n",
    "- Extraction\n",
    "- Transformation"
   ]
  },
  {
   "cell_type": "markdown",
   "metadata": {},
   "source": [
    "## Demo- Scrap Flipkart\n",
    "Scrap Flipkart website and fetch details of iphones "
   ]
  },
  {
   "cell_type": "markdown",
   "metadata": {},
   "source": [
    "<img src='images/iphone.png'>"
   ]
  },
  {
   "cell_type": "markdown",
   "metadata": {},
   "source": [
    "When converting this into a dataset,the things we extract are-\n",
    "\n",
    "1. The Name of Product.\n",
    "2. The Price of Product.\n",
    "3. The Specifications of the product.\n",
    "4. The Ratings of product.\n"
   ]
  },
  {
   "cell_type": "markdown",
   "metadata": {},
   "source": [
    "## Examining the HTML\n",
    "\n",
    "To view the HTML code that generates a web page, you right click on it and select \"View Page Source\" in Chrome or Firefox, \"View Source\" in Internet Explorer, or \"Show Page Source\" in Safari. (If that option doesn't appear in Safari, just open Safari Preferences, select the Advanced tab, and check \"Show Develop menu in menu bar\".)\n",
    "\n",
    "Let's locate the **Product Name** by click on inspect:\n",
    "\n",
    "![Screenshot of the source](images/ss1.png)\n"
   ]
  },
  {
   "cell_type": "markdown",
   "metadata": {},
   "source": [
    "## Summary\n",
    "\n",
    "This an introductory tutorial on web scraping in Python. All that is required to follow along is a basic understanding of the Python programming language.\n",
    "\n",
    "By the end of this tutorial, you will be able to scrape data from a static web page using the **requests** and **Beautiful Soup** libraries, and export that data into a structured text file using the **pandas** library."
   ]
  },
  {
   "cell_type": "markdown",
   "metadata": {},
   "source": [
    "## Reading the web page into Python\n",
    "\n",
    "The first thing we need to do is to read the HTML for this article into Python, which we'll do using the [requests](http://docs.python-requests.org/en/master/) library. (If you don't have it, you can `pip install requests` from the command line.)"
   ]
  },
  {
   "cell_type": "code",
   "execution_count": 1,
   "metadata": {},
   "outputs": [],
   "source": [
    "import requests\n",
    "r = requests.get('https://www.flipkart.com/search?q=iphone&otracker=search&otracker1=search&marketplace=FLIPKART&as-show=on&as=off')"
   ]
  },
  {
   "cell_type": "markdown",
   "metadata": {},
   "source": [
    "## Parsing the HTML using Beautiful Soup\n",
    "\n",
    "We're going to parse the HTML using the [Beautiful Soup 4](https://www.crummy.com/software/BeautifulSoup/bs4/doc/) library, which is a popular Python library for web scraping. (If you don't have it, you can `pip install beautifulsoup4` from the command line.)"
   ]
  },
  {
   "cell_type": "code",
   "execution_count": 2,
   "metadata": {},
   "outputs": [],
   "source": [
    "from bs4 import BeautifulSoup\n",
    "soup = BeautifulSoup(r.text, 'html.parser')"
   ]
  },
  {
   "cell_type": "markdown",
   "metadata": {},
   "source": [
    "##  Beautiful Soup methods and attributes\n",
    "\n",
    "I want to summarize a few ways you can interact with Beautiful Soup objects.\n",
    "\n",
    "You can apply these **two methods** to either the initial `soup` object or a Tag object (such as `first_result`):\n",
    "\n",
    "- `find()`: searches for the first matching tag, and returns a Tag object\n",
    "- `find_all()`: searches for all matching tags, and returns a ResultSet object (which you can treat like a list of Tags)\n",
    "\n",
    "You can extract information from a Tag object (such as `first_result`) using these **two attributes:**\n",
    "\n",
    "- `text`: extracts the text of a Tag, and returns a string\n",
    "\n",
    "\n",
    "And of course, there are many more methods and attributes available to you, which are described in the [Beautiful Soup documentation](https://www.crummy.com/software/BeautifulSoup/bs4/doc/)."
   ]
  },
  {
   "cell_type": "markdown",
   "metadata": {},
   "source": [
    "## Extracting the class which have all information is present"
   ]
  },
  {
   "cell_type": "code",
   "execution_count": 3,
   "metadata": {},
   "outputs": [],
   "source": [
    "containers = soup.find_all('div', attrs={'class':'_1UoZlX'})"
   ]
  },
  {
   "cell_type": "code",
   "execution_count": 4,
   "metadata": {},
   "outputs": [
    {
     "name": "stdout",
     "output_type": "stream",
     "text": [
      "24\n"
     ]
    }
   ],
   "source": [
    "print(len(containers))"
   ]
  },
  {
   "cell_type": "code",
   "execution_count": 5,
   "metadata": {},
   "outputs": [],
   "source": [
    "container=containers[0]"
   ]
  },
  {
   "cell_type": "markdown",
   "metadata": {},
   "source": [
    "## Extracting the ProductName\n",
    "![Screenshot of the source](images/ss1.png)"
   ]
  },
  {
   "cell_type": "code",
   "execution_count": 6,
   "metadata": {},
   "outputs": [],
   "source": [
    "container=soup.findAll('div',attrs={'class':'_3wU53n'})"
   ]
  },
  {
   "cell_type": "code",
   "execution_count": 7,
   "metadata": {},
   "outputs": [
    {
     "data": {
      "text/plain": [
       "'Apple iPhone SE (Space Grey, 32 GB)'"
      ]
     },
     "execution_count": 7,
     "metadata": {},
     "output_type": "execute_result"
    }
   ],
   "source": [
    "container[0].text"
   ]
  },
  {
   "cell_type": "markdown",
   "metadata": {},
   "source": [
    "## Extracting the Price"
   ]
  },
  {
   "cell_type": "code",
   "execution_count": 8,
   "metadata": {},
   "outputs": [
    {
     "data": {
      "text/plain": [
       "'₹18,999'"
      ]
     },
     "execution_count": 8,
     "metadata": {},
     "output_type": "execute_result"
    }
   ],
   "source": [
    "price=soup.findAll('div', attrs={'class':'_1vC4OE _2rQ-NK'})\n",
    "price[0].text"
   ]
  },
  {
   "cell_type": "markdown",
   "metadata": {},
   "source": [
    "## Extracting the ratings and reviews"
   ]
  },
  {
   "cell_type": "code",
   "execution_count": 9,
   "metadata": {},
   "outputs": [
    {
     "name": "stdout",
     "output_type": "stream",
     "text": [
      "44,539 Ratings & 6,524 Reviews\n"
     ]
    }
   ],
   "source": [
    "ratings=soup.findAll('span', attrs={'class':'_38sUEc'})\n",
    "print(ratings[0].text)"
   ]
  },
  {
   "cell_type": "markdown",
   "metadata": {},
   "source": [
    "## Extracting specifications"
   ]
  },
  {
   "cell_type": "code",
   "execution_count": 10,
   "metadata": {},
   "outputs": [
    {
     "data": {
      "text/plain": [
       "'32 GB ROM |10.16 cm (4 inch) Retina Display12MP Rear Camera | 1.2MP Front CameraLi-Ion BatteryApple A9 64-bit processor and Embedded M9 Motion Co-processorBrand Warranty of 1 Year'"
      ]
     },
     "execution_count": 10,
     "metadata": {},
     "output_type": "execute_result"
    }
   ],
   "source": [
    "specifications=soup.findAll('ul', attrs={'class':'vFw0gD'})\n",
    "specifications[0].text"
   ]
  },
  {
   "cell_type": "code",
   "execution_count": 18,
   "metadata": {},
   "outputs": [
    {
     "data": {
      "text/plain": [
       "24"
      ]
     },
     "execution_count": 18,
     "metadata": {},
     "output_type": "execute_result"
    }
   ],
   "source": [
    "len(containers)"
   ]
  },
  {
   "cell_type": "code",
   "execution_count": 50,
   "metadata": {},
   "outputs": [
    {
     "name": "stdout",
     "output_type": "stream",
     "text": [
      "Product_name:Apple iPhone SE (Space Grey, 32 GB)\n",
      "Price:₹18,999\n",
      "Ratings:44,539 Ratings & 6,524 Reviews\n",
      "specifications:32 GB ROM |10.16 cm (4 inch) Retina Display12MP Rear Camera | 1.2MP Front CameraLi-Ion BatteryApple A9 64-bit processor and Embedded M9 Motion Co-processorBrand Warranty of 1 Year\n",
      "Product_name:Apple iPhone SE (Rose Gold, 32 GB)\n",
      "Price:₹18,999\n",
      "Ratings:44,539 Ratings & 6,524 Reviews\n",
      "specifications:32 GB ROM |10.16 cm (4 inch) Retina Display12MP Rear Camera | 1.2MP Front CameraLi-Ion BatteryApple A9 64-bit processor and Embedded M9 Motion Co-processorBrand Warranty of 1 Year\n",
      "Product_name:Apple iPhone 6 (Space Grey, 32 GB)\n",
      "Price:₹24,999\n",
      "Ratings:49,582 Ratings & 5,789 Reviews\n",
      "specifications:32 GB ROM |11.94 cm (4.7 inch) Retina HD Display8MP Rear Camera | 1.2MP Front CameraLi-Ion BatteryApple A8 64-bit processor and M8 Motion Co-processorBrand Warranty of 1 Year\n",
      "Product_name:Apple iPhone 6s Plus (Rose Gold, 32 GB)\n",
      "Price:₹38,999\n",
      "Ratings:1,747 Ratings & 276 Reviews\n",
      "specifications:32 GB ROM |13.97 cm (5.5 inch) Retina HD Display12MP Rear Camera | 5MP Front CameraLi-Ion BatteryApple A9 64-bit processor and Embedded M9 Motion Co-processorBrand Warranty of 1 Year\n",
      "Product_name:Apple iPhone 6s (Rose Gold, 32 GB)\n",
      "Price:₹32,999\n",
      "Ratings:8,059 Ratings & 932 Reviews\n",
      "specifications:32 GB ROM |11.94 cm (4.7 inch) Retina HD Display12MP Rear Camera | 5MP Front CameraLi-Ion BatteryApple A9 64-bit processor and M9 Motion Co-processorBrand Warranty of 1 Year\n",
      "Product_name:Apple iPhone SE (Silver, 32 GB)\n",
      "Price:₹18,999\n",
      "Ratings:3,667 Ratings & 488 Reviews\n",
      "specifications:32 GB ROM |10.16 cm (4 inch) Retina Display12MP Rear Camera | 1.2MP Front CameraLi-Ion BatteryApple A9 64-bit processor and Embedded M9 Motion Co-processorBrand Warranty of 1 Year\n",
      "Product_name:Apple iPhone 6 (Gold, 32 GB)\n",
      "Price:₹25,999\n",
      "Ratings:49,582 Ratings & 5,789 Reviews\n",
      "specifications:32 GB ROM |11.94 cm (4.7 inch) Retina HD Display8MP Rear Camera | 1.2MP Front CameraLi-Ion BatteryA8 Chip with 64-bit Architecture and M8 Motion Co-processorBrand Warranty of 1 Year\n",
      "Product_name:Apple iPhone SE (Gold, 32 GB)\n",
      "Price:₹18,999\n",
      "Ratings:44,539 Ratings & 6,524 Reviews\n",
      "specifications:32 GB ROM |10.16 cm (4 inch) Retina Display12MP Rear Camera | 1.2MP Front CameraLi-Ion BatteryApple A9 64-bit processor and Embedded M9 Motion Co-processorBrand Warranty of 1 Year\n",
      "Product_name:Apple iPhone XS Max (Gold, 64 GB)\n",
      "Price:₹1,09,900\n",
      "Ratings:97 Ratings & 22 Reviews\n",
      "specifications:64 GB ROM |16.51 cm (6.5 inch) Super Retina HD Display12MP + 12MP | 7MP Front CameraLithium-ion BatteryA12 Bionic Chip Processor1 Year Limited Warranty for Products and Accessories\n",
      "Product_name:Apple iPhone XS Max (Gold, 256 GB)\n",
      "Price:₹1,24,900\n",
      "Ratings:97 Ratings & 22 Reviews\n",
      "specifications:256 GB ROM |16.51 cm (6.5 inch) Super Retina HD Display12MP + 12MP | 7MP Front CameraLithium-ion BatteryA12 Bionic Chip Processor1 Year Limited Warranty for Products and Accessories\n",
      "Product_name:Apple iPhone 6s (Gold, 32 GB)\n",
      "Price:₹32,999\n",
      "Ratings:8,472 Ratings & 1,053 Reviews\n",
      "specifications:32 GB ROM |11.94 cm (4.7 inch) Retina HD Display12MP Rear Camera | 5MP Front CameraLi-Ion BatteryApple A9 64-bit processor and Embedded M9 Motion Co-processorBrand Warranty of 1 Year\n",
      "Product_name:Apple iPhone 6s Plus (Gold, 32 GB)\n",
      "Price:₹38,999\n",
      "Ratings:1,722 Ratings & 273 Reviews\n",
      "specifications:32 GB ROM |13.97 cm (5.5 inch) Retina HD Display12MP Rear Camera | 5MP Front CameraLi-Ion BatteryApple A9 64-bit processor and Embedded M9 Motion Co-processorBrand Warranty of 1 Year\n",
      "Product_name:Apple iPhone 6s (Space Grey, 32 GB)\n",
      "Price:₹32,999\n",
      "Ratings:12,423 Ratings & 1,469 Reviews\n",
      "specifications:32 GB ROM |11.94 cm (4.7 inch) Retina HD Display12MP Rear Camera | 5MP Front CameraLi-Ion BatteryApple A9 64-bit processor and Embedded M9 Motion Co-processorBrand Warranty of 1 Year\n",
      "Product_name:Apple iPhone 7 (Jet Black, 32 GB)\n",
      "Price:₹46,999\n",
      "Ratings:21,407 Ratings & 2,644 Reviews\n",
      "specifications:32 GB ROM |11.94 cm (4.7 inch) Retina HD Display12MP Rear Camera | 7MP Front CameraLi-Ion BatteryApple A10 Fusion 64-bit processor and Embedded M10 Motion Co-processorBrand Warranty of 1 Year\n",
      "Product_name:Apple iPhone XS Max (Space Grey, 64 GB)\n",
      "Price:₹1,09,900\n",
      "Ratings:97 Ratings & 22 Reviews\n",
      "specifications:64 GB ROM |16.51 cm (6.5 inch) Super Retina HD Display12MP + 12MP | 7MP Front CameraLithium-ion BatteryA12 Bionic Chip Processor1 Year Limited Warranty for Products and Accessories\n",
      "Product_name:Apple iPhone XS (Gold, 64 GB)\n",
      "Price:₹99,900\n",
      "Ratings:46 Ratings & 4 Reviews\n",
      "specifications:64 GB ROM |14.73 cm (5.8 inch) Super Retina HD Display12MP + 12MP | 7MP Front CameraLithium-ion BatteryA12 Bionic Chip Processor1 Year Limited Warranty for Products and Accessories\n",
      "Product_name:Apple iPhone XS (Space Grey, 64 GB)\n",
      "Price:₹99,900\n",
      "Ratings:46 Ratings & 4 Reviews\n",
      "specifications:64 GB ROM |14.73 cm (5.8 inch) Super Retina HD Display12MP + 12MP | 7MP Front CameraLithium-ion BatteryA12 Bionic Chip Processor1 Year Limited Warranty for Products and Accessories\n",
      "Product_name:Apple iPhone 6s Plus (Space Grey, 32 GB)\n",
      "Price:₹39,999\n",
      "Ratings:1,667 Ratings & 245 Reviews\n",
      "specifications:32 GB ROM |13.97 cm (5.5 inch) Retina HD Display12MP Rear Camera | 5MP Front CameraLi-Ion BatteryApple A9 64-bit processor and Embedded M9 Motion Co-processorBrand Warranty of 1 Year\n",
      "Product_name:Apple iPhone 7 (Black, 32 GB)\n",
      "Price:₹46,999\n",
      "Ratings:21,407 Ratings & 2,644 Reviews\n",
      "specifications:32 GB ROM |11.94 cm (4.7 inch) Retina HD Display12MP Rear Camera | 7MP Front CameraLi-Ion BatteryApple A10 Fusion 64-bit processor and Embedded M10 Motion Co-processorBrand Warranty of 1 Year\n",
      "Product_name:Apple iPhone XS (Silver, 256 GB)\n",
      "Price:₹1,14,900\n",
      "Ratings:46 Ratings & 4 Reviews\n",
      "specifications:256 GB ROM |14.73 cm (5.8 inch) Super Retina HD Display12MP + 12MP | 7MP Front CameraLithium-ion BatteryA12 Bionic Chip Processor1 Year Limited Warranty for Products and Accessories\n",
      "Product_name:Apple iPhone XS (Silver, 64 GB)\n",
      "Price:₹99,900\n",
      "Ratings:46 Ratings & 4 Reviews\n",
      "specifications:64 GB ROM |14.73 cm (5.8 inch) Super Retina HD Display12MP + 12MP | 7MP Front CameraLithium-ion BatteryA12 Bionic Chip Processor1 Year Limited Warranty for Products and Accessories\n",
      "Product_name:Apple iPhone 6s Plus (Silver, 32 GB)\n",
      "Price:₹38,999\n",
      "Ratings:594 Ratings & 80 Reviews\n",
      "specifications:32 GB ROM |13.97 cm (5.5 inch) Retina HD Display12MP Rear Camera | 5MP Front CameraLi-Ion BatteryApple A9 64-bit processor and Embedded M9 Motion Co-processorBrand Warranty of 1 Year\n",
      "Product_name:Apple iPhone XS Max (Silver, 256 GB)\n",
      "Price:₹1,24,900\n",
      "Ratings:97 Ratings & 22 Reviews\n",
      "specifications:256 GB ROM |16.51 cm (6.5 inch) Super Retina HD Display12MP + 12MP | 7MP Front CameraLithium-ion BatteryA12 Bionic Chip Processor1 Year Limited Warranty for Products and Accessories\n",
      "Product_name:Apple iPhone XS (Space Grey, 256 GB)\n",
      "Price:₹1,14,900\n",
      "Ratings:46 Ratings & 4 Reviews\n",
      "specifications:256 GB ROM |14.73 cm (5.8 inch) Super Retina HD Display12MP + 12MP | 7MP Front CameraLithium-ion BatteryA12 Bionic Chip Processor1 Year Limited Warranty for Products and Accessories\n"
     ]
    }
   ],
   "source": [
    "records=[]\n",
    "for i in range(0,24):\n",
    "    Product=soup.find_all('div', attrs={'class':'_3wU53n'})\n",
    "    product_name=Product[i].text\n",
    "    price=soup.findAll('div', attrs={'class':'_1vC4OE _2rQ-NK'})\n",
    "    price=price[i].text\n",
    "    rating=soup.findAll('span', attrs={'class':'_38sUEc'})\n",
    "    rating=rating[i].text\n",
    "    specifications=soup.findAll('ul', attrs={'class':'vFw0gD'})\n",
    "    specifications=specifications[i].text\n",
    "    print('Product_name:'+ product_name)\n",
    "    print('Price:' + price)\n",
    "    print('Ratings:'+ rating)\n",
    "    print('specifications:' + specifications)\n",
    "    records.append((product_name, price, rating,specifications))"
   ]
  },
  {
   "cell_type": "code",
   "execution_count": 51,
   "metadata": {},
   "outputs": [
    {
     "data": {
      "text/plain": [
       "24"
      ]
     },
     "execution_count": 51,
     "metadata": {},
     "output_type": "execute_result"
    }
   ],
   "source": [
    "len(records)"
   ]
  },
  {
   "cell_type": "markdown",
   "metadata": {},
   "source": [
    "## Convert to `DataFrame`"
   ]
  },
  {
   "cell_type": "code",
   "execution_count": 52,
   "metadata": {},
   "outputs": [],
   "source": [
    "import pandas as pd\n",
    "df = pd.DataFrame(records, columns=['Product_name', 'Price', 'Rating','Specifications'])"
   ]
  },
  {
   "cell_type": "code",
   "execution_count": 53,
   "metadata": {},
   "outputs": [
    {
     "data": {
      "text/html": [
       "<div>\n",
       "<style scoped>\n",
       "    .dataframe tbody tr th:only-of-type {\n",
       "        vertical-align: middle;\n",
       "    }\n",
       "\n",
       "    .dataframe tbody tr th {\n",
       "        vertical-align: top;\n",
       "    }\n",
       "\n",
       "    .dataframe thead th {\n",
       "        text-align: right;\n",
       "    }\n",
       "</style>\n",
       "<table border=\"1\" class=\"dataframe\">\n",
       "  <thead>\n",
       "    <tr style=\"text-align: right;\">\n",
       "      <th></th>\n",
       "      <th>Product_name</th>\n",
       "      <th>Price</th>\n",
       "      <th>Rating</th>\n",
       "      <th>Specifications</th>\n",
       "    </tr>\n",
       "  </thead>\n",
       "  <tbody>\n",
       "    <tr>\n",
       "      <th>0</th>\n",
       "      <td>Apple iPhone SE (Space Grey, 32 GB)</td>\n",
       "      <td>₹18,999</td>\n",
       "      <td>44,539 Ratings &amp; 6,524 Reviews</td>\n",
       "      <td>32 GB ROM |10.16 cm (4 inch) Retina Display12M...</td>\n",
       "    </tr>\n",
       "    <tr>\n",
       "      <th>1</th>\n",
       "      <td>Apple iPhone SE (Rose Gold, 32 GB)</td>\n",
       "      <td>₹18,999</td>\n",
       "      <td>44,539 Ratings &amp; 6,524 Reviews</td>\n",
       "      <td>32 GB ROM |10.16 cm (4 inch) Retina Display12M...</td>\n",
       "    </tr>\n",
       "    <tr>\n",
       "      <th>2</th>\n",
       "      <td>Apple iPhone 6 (Space Grey, 32 GB)</td>\n",
       "      <td>₹24,999</td>\n",
       "      <td>49,582 Ratings &amp; 5,789 Reviews</td>\n",
       "      <td>32 GB ROM |11.94 cm (4.7 inch) Retina HD Displ...</td>\n",
       "    </tr>\n",
       "    <tr>\n",
       "      <th>3</th>\n",
       "      <td>Apple iPhone 6s Plus (Rose Gold, 32 GB)</td>\n",
       "      <td>₹38,999</td>\n",
       "      <td>1,747 Ratings &amp; 276 Reviews</td>\n",
       "      <td>32 GB ROM |13.97 cm (5.5 inch) Retina HD Displ...</td>\n",
       "    </tr>\n",
       "    <tr>\n",
       "      <th>4</th>\n",
       "      <td>Apple iPhone 6s (Rose Gold, 32 GB)</td>\n",
       "      <td>₹32,999</td>\n",
       "      <td>8,059 Ratings &amp; 932 Reviews</td>\n",
       "      <td>32 GB ROM |11.94 cm (4.7 inch) Retina HD Displ...</td>\n",
       "    </tr>\n",
       "  </tbody>\n",
       "</table>\n",
       "</div>"
      ],
      "text/plain": [
       "                              Product_name    Price  \\\n",
       "0      Apple iPhone SE (Space Grey, 32 GB)  ₹18,999   \n",
       "1       Apple iPhone SE (Rose Gold, 32 GB)  ₹18,999   \n",
       "2       Apple iPhone 6 (Space Grey, 32 GB)  ₹24,999   \n",
       "3  Apple iPhone 6s Plus (Rose Gold, 32 GB)  ₹38,999   \n",
       "4       Apple iPhone 6s (Rose Gold, 32 GB)  ₹32,999   \n",
       "\n",
       "                           Rating  \\\n",
       "0  44,539 Ratings & 6,524 Reviews   \n",
       "1  44,539 Ratings & 6,524 Reviews   \n",
       "2  49,582 Ratings & 5,789 Reviews   \n",
       "3     1,747 Ratings & 276 Reviews   \n",
       "4     8,059 Ratings & 932 Reviews   \n",
       "\n",
       "                                      Specifications  \n",
       "0  32 GB ROM |10.16 cm (4 inch) Retina Display12M...  \n",
       "1  32 GB ROM |10.16 cm (4 inch) Retina Display12M...  \n",
       "2  32 GB ROM |11.94 cm (4.7 inch) Retina HD Displ...  \n",
       "3  32 GB ROM |13.97 cm (5.5 inch) Retina HD Displ...  \n",
       "4  32 GB ROM |11.94 cm (4.7 inch) Retina HD Displ...  "
      ]
     },
     "execution_count": 53,
     "metadata": {},
     "output_type": "execute_result"
    }
   ],
   "source": [
    "df.head()"
   ]
  },
  {
   "cell_type": "markdown",
   "metadata": {},
   "source": [
    "## Convert Daraframe to csv File"
   ]
  },
  {
   "cell_type": "code",
   "execution_count": 54,
   "metadata": {},
   "outputs": [],
   "source": [
    "df.to_csv('iphones_list.csv', index=False, encoding='utf-8')"
   ]
  },
  {
   "cell_type": "code",
   "execution_count": 55,
   "metadata": {},
   "outputs": [],
   "source": [
    "df = pd.read_csv('iphones_list.csv', encoding='utf-8')"
   ]
  },
  {
   "cell_type": "code",
   "execution_count": 56,
   "metadata": {},
   "outputs": [
    {
     "data": {
      "text/html": [
       "<div>\n",
       "<style scoped>\n",
       "    .dataframe tbody tr th:only-of-type {\n",
       "        vertical-align: middle;\n",
       "    }\n",
       "\n",
       "    .dataframe tbody tr th {\n",
       "        vertical-align: top;\n",
       "    }\n",
       "\n",
       "    .dataframe thead th {\n",
       "        text-align: right;\n",
       "    }\n",
       "</style>\n",
       "<table border=\"1\" class=\"dataframe\">\n",
       "  <thead>\n",
       "    <tr style=\"text-align: right;\">\n",
       "      <th></th>\n",
       "      <th>Product_name</th>\n",
       "      <th>Price</th>\n",
       "      <th>Rating</th>\n",
       "      <th>Specifications</th>\n",
       "    </tr>\n",
       "  </thead>\n",
       "  <tbody>\n",
       "    <tr>\n",
       "      <th>0</th>\n",
       "      <td>Apple iPhone SE (Space Grey, 32 GB)</td>\n",
       "      <td>₹18,999</td>\n",
       "      <td>44,539 Ratings &amp; 6,524 Reviews</td>\n",
       "      <td>32 GB ROM |10.16 cm (4 inch) Retina Display12M...</td>\n",
       "    </tr>\n",
       "    <tr>\n",
       "      <th>1</th>\n",
       "      <td>Apple iPhone SE (Rose Gold, 32 GB)</td>\n",
       "      <td>₹18,999</td>\n",
       "      <td>44,539 Ratings &amp; 6,524 Reviews</td>\n",
       "      <td>32 GB ROM |10.16 cm (4 inch) Retina Display12M...</td>\n",
       "    </tr>\n",
       "    <tr>\n",
       "      <th>2</th>\n",
       "      <td>Apple iPhone 6 (Space Grey, 32 GB)</td>\n",
       "      <td>₹24,999</td>\n",
       "      <td>49,582 Ratings &amp; 5,789 Reviews</td>\n",
       "      <td>32 GB ROM |11.94 cm (4.7 inch) Retina HD Displ...</td>\n",
       "    </tr>\n",
       "    <tr>\n",
       "      <th>3</th>\n",
       "      <td>Apple iPhone 6s Plus (Rose Gold, 32 GB)</td>\n",
       "      <td>₹38,999</td>\n",
       "      <td>1,747 Ratings &amp; 276 Reviews</td>\n",
       "      <td>32 GB ROM |13.97 cm (5.5 inch) Retina HD Displ...</td>\n",
       "    </tr>\n",
       "    <tr>\n",
       "      <th>4</th>\n",
       "      <td>Apple iPhone 6s (Rose Gold, 32 GB)</td>\n",
       "      <td>₹32,999</td>\n",
       "      <td>8,059 Ratings &amp; 932 Reviews</td>\n",
       "      <td>32 GB ROM |11.94 cm (4.7 inch) Retina HD Displ...</td>\n",
       "    </tr>\n",
       "    <tr>\n",
       "      <th>5</th>\n",
       "      <td>Apple iPhone SE (Silver, 32 GB)</td>\n",
       "      <td>₹18,999</td>\n",
       "      <td>3,667 Ratings &amp; 488 Reviews</td>\n",
       "      <td>32 GB ROM |10.16 cm (4 inch) Retina Display12M...</td>\n",
       "    </tr>\n",
       "    <tr>\n",
       "      <th>6</th>\n",
       "      <td>Apple iPhone 6 (Gold, 32 GB)</td>\n",
       "      <td>₹25,999</td>\n",
       "      <td>49,582 Ratings &amp; 5,789 Reviews</td>\n",
       "      <td>32 GB ROM |11.94 cm (4.7 inch) Retina HD Displ...</td>\n",
       "    </tr>\n",
       "    <tr>\n",
       "      <th>7</th>\n",
       "      <td>Apple iPhone SE (Gold, 32 GB)</td>\n",
       "      <td>₹18,999</td>\n",
       "      <td>44,539 Ratings &amp; 6,524 Reviews</td>\n",
       "      <td>32 GB ROM |10.16 cm (4 inch) Retina Display12M...</td>\n",
       "    </tr>\n",
       "    <tr>\n",
       "      <th>8</th>\n",
       "      <td>Apple iPhone XS Max (Gold, 64 GB)</td>\n",
       "      <td>₹1,09,900</td>\n",
       "      <td>97 Ratings &amp; 22 Reviews</td>\n",
       "      <td>64 GB ROM |16.51 cm (6.5 inch) Super Retina HD...</td>\n",
       "    </tr>\n",
       "    <tr>\n",
       "      <th>9</th>\n",
       "      <td>Apple iPhone XS Max (Gold, 256 GB)</td>\n",
       "      <td>₹1,24,900</td>\n",
       "      <td>97 Ratings &amp; 22 Reviews</td>\n",
       "      <td>256 GB ROM |16.51 cm (6.5 inch) Super Retina H...</td>\n",
       "    </tr>\n",
       "    <tr>\n",
       "      <th>10</th>\n",
       "      <td>Apple iPhone 6s (Gold, 32 GB)</td>\n",
       "      <td>₹32,999</td>\n",
       "      <td>8,472 Ratings &amp; 1,053 Reviews</td>\n",
       "      <td>32 GB ROM |11.94 cm (4.7 inch) Retina HD Displ...</td>\n",
       "    </tr>\n",
       "    <tr>\n",
       "      <th>11</th>\n",
       "      <td>Apple iPhone 6s Plus (Gold, 32 GB)</td>\n",
       "      <td>₹38,999</td>\n",
       "      <td>1,722 Ratings &amp; 273 Reviews</td>\n",
       "      <td>32 GB ROM |13.97 cm (5.5 inch) Retina HD Displ...</td>\n",
       "    </tr>\n",
       "    <tr>\n",
       "      <th>12</th>\n",
       "      <td>Apple iPhone 6s (Space Grey, 32 GB)</td>\n",
       "      <td>₹32,999</td>\n",
       "      <td>12,423 Ratings &amp; 1,469 Reviews</td>\n",
       "      <td>32 GB ROM |11.94 cm (4.7 inch) Retina HD Displ...</td>\n",
       "    </tr>\n",
       "    <tr>\n",
       "      <th>13</th>\n",
       "      <td>Apple iPhone 7 (Jet Black, 32 GB)</td>\n",
       "      <td>₹46,999</td>\n",
       "      <td>21,407 Ratings &amp; 2,644 Reviews</td>\n",
       "      <td>32 GB ROM |11.94 cm (4.7 inch) Retina HD Displ...</td>\n",
       "    </tr>\n",
       "    <tr>\n",
       "      <th>14</th>\n",
       "      <td>Apple iPhone XS Max (Space Grey, 64 GB)</td>\n",
       "      <td>₹1,09,900</td>\n",
       "      <td>97 Ratings &amp; 22 Reviews</td>\n",
       "      <td>64 GB ROM |16.51 cm (6.5 inch) Super Retina HD...</td>\n",
       "    </tr>\n",
       "    <tr>\n",
       "      <th>15</th>\n",
       "      <td>Apple iPhone XS (Gold, 64 GB)</td>\n",
       "      <td>₹99,900</td>\n",
       "      <td>46 Ratings &amp; 4 Reviews</td>\n",
       "      <td>64 GB ROM |14.73 cm (5.8 inch) Super Retina HD...</td>\n",
       "    </tr>\n",
       "    <tr>\n",
       "      <th>16</th>\n",
       "      <td>Apple iPhone XS (Space Grey, 64 GB)</td>\n",
       "      <td>₹99,900</td>\n",
       "      <td>46 Ratings &amp; 4 Reviews</td>\n",
       "      <td>64 GB ROM |14.73 cm (5.8 inch) Super Retina HD...</td>\n",
       "    </tr>\n",
       "    <tr>\n",
       "      <th>17</th>\n",
       "      <td>Apple iPhone 6s Plus (Space Grey, 32 GB)</td>\n",
       "      <td>₹39,999</td>\n",
       "      <td>1,667 Ratings &amp; 245 Reviews</td>\n",
       "      <td>32 GB ROM |13.97 cm (5.5 inch) Retina HD Displ...</td>\n",
       "    </tr>\n",
       "    <tr>\n",
       "      <th>18</th>\n",
       "      <td>Apple iPhone 7 (Black, 32 GB)</td>\n",
       "      <td>₹46,999</td>\n",
       "      <td>21,407 Ratings &amp; 2,644 Reviews</td>\n",
       "      <td>32 GB ROM |11.94 cm (4.7 inch) Retina HD Displ...</td>\n",
       "    </tr>\n",
       "    <tr>\n",
       "      <th>19</th>\n",
       "      <td>Apple iPhone XS (Silver, 256 GB)</td>\n",
       "      <td>₹1,14,900</td>\n",
       "      <td>46 Ratings &amp; 4 Reviews</td>\n",
       "      <td>256 GB ROM |14.73 cm (5.8 inch) Super Retina H...</td>\n",
       "    </tr>\n",
       "    <tr>\n",
       "      <th>20</th>\n",
       "      <td>Apple iPhone XS (Silver, 64 GB)</td>\n",
       "      <td>₹99,900</td>\n",
       "      <td>46 Ratings &amp; 4 Reviews</td>\n",
       "      <td>64 GB ROM |14.73 cm (5.8 inch) Super Retina HD...</td>\n",
       "    </tr>\n",
       "    <tr>\n",
       "      <th>21</th>\n",
       "      <td>Apple iPhone 6s Plus (Silver, 32 GB)</td>\n",
       "      <td>₹38,999</td>\n",
       "      <td>594 Ratings &amp; 80 Reviews</td>\n",
       "      <td>32 GB ROM |13.97 cm (5.5 inch) Retina HD Displ...</td>\n",
       "    </tr>\n",
       "    <tr>\n",
       "      <th>22</th>\n",
       "      <td>Apple iPhone XS Max (Silver, 256 GB)</td>\n",
       "      <td>₹1,24,900</td>\n",
       "      <td>97 Ratings &amp; 22 Reviews</td>\n",
       "      <td>256 GB ROM |16.51 cm (6.5 inch) Super Retina H...</td>\n",
       "    </tr>\n",
       "    <tr>\n",
       "      <th>23</th>\n",
       "      <td>Apple iPhone XS (Space Grey, 256 GB)</td>\n",
       "      <td>₹1,14,900</td>\n",
       "      <td>46 Ratings &amp; 4 Reviews</td>\n",
       "      <td>256 GB ROM |14.73 cm (5.8 inch) Super Retina H...</td>\n",
       "    </tr>\n",
       "  </tbody>\n",
       "</table>\n",
       "</div>"
      ],
      "text/plain": [
       "                                Product_name      Price  \\\n",
       "0        Apple iPhone SE (Space Grey, 32 GB)    ₹18,999   \n",
       "1         Apple iPhone SE (Rose Gold, 32 GB)    ₹18,999   \n",
       "2         Apple iPhone 6 (Space Grey, 32 GB)    ₹24,999   \n",
       "3    Apple iPhone 6s Plus (Rose Gold, 32 GB)    ₹38,999   \n",
       "4         Apple iPhone 6s (Rose Gold, 32 GB)    ₹32,999   \n",
       "5            Apple iPhone SE (Silver, 32 GB)    ₹18,999   \n",
       "6               Apple iPhone 6 (Gold, 32 GB)    ₹25,999   \n",
       "7              Apple iPhone SE (Gold, 32 GB)    ₹18,999   \n",
       "8          Apple iPhone XS Max (Gold, 64 GB)  ₹1,09,900   \n",
       "9         Apple iPhone XS Max (Gold, 256 GB)  ₹1,24,900   \n",
       "10             Apple iPhone 6s (Gold, 32 GB)    ₹32,999   \n",
       "11        Apple iPhone 6s Plus (Gold, 32 GB)    ₹38,999   \n",
       "12       Apple iPhone 6s (Space Grey, 32 GB)    ₹32,999   \n",
       "13         Apple iPhone 7 (Jet Black, 32 GB)    ₹46,999   \n",
       "14   Apple iPhone XS Max (Space Grey, 64 GB)  ₹1,09,900   \n",
       "15             Apple iPhone XS (Gold, 64 GB)    ₹99,900   \n",
       "16       Apple iPhone XS (Space Grey, 64 GB)    ₹99,900   \n",
       "17  Apple iPhone 6s Plus (Space Grey, 32 GB)    ₹39,999   \n",
       "18             Apple iPhone 7 (Black, 32 GB)    ₹46,999   \n",
       "19          Apple iPhone XS (Silver, 256 GB)  ₹1,14,900   \n",
       "20           Apple iPhone XS (Silver, 64 GB)    ₹99,900   \n",
       "21      Apple iPhone 6s Plus (Silver, 32 GB)    ₹38,999   \n",
       "22      Apple iPhone XS Max (Silver, 256 GB)  ₹1,24,900   \n",
       "23      Apple iPhone XS (Space Grey, 256 GB)  ₹1,14,900   \n",
       "\n",
       "                            Rating  \\\n",
       "0   44,539 Ratings & 6,524 Reviews   \n",
       "1   44,539 Ratings & 6,524 Reviews   \n",
       "2   49,582 Ratings & 5,789 Reviews   \n",
       "3      1,747 Ratings & 276 Reviews   \n",
       "4      8,059 Ratings & 932 Reviews   \n",
       "5      3,667 Ratings & 488 Reviews   \n",
       "6   49,582 Ratings & 5,789 Reviews   \n",
       "7   44,539 Ratings & 6,524 Reviews   \n",
       "8          97 Ratings & 22 Reviews   \n",
       "9          97 Ratings & 22 Reviews   \n",
       "10   8,472 Ratings & 1,053 Reviews   \n",
       "11     1,722 Ratings & 273 Reviews   \n",
       "12  12,423 Ratings & 1,469 Reviews   \n",
       "13  21,407 Ratings & 2,644 Reviews   \n",
       "14         97 Ratings & 22 Reviews   \n",
       "15          46 Ratings & 4 Reviews   \n",
       "16          46 Ratings & 4 Reviews   \n",
       "17     1,667 Ratings & 245 Reviews   \n",
       "18  21,407 Ratings & 2,644 Reviews   \n",
       "19          46 Ratings & 4 Reviews   \n",
       "20          46 Ratings & 4 Reviews   \n",
       "21        594 Ratings & 80 Reviews   \n",
       "22         97 Ratings & 22 Reviews   \n",
       "23          46 Ratings & 4 Reviews   \n",
       "\n",
       "                                       Specifications  \n",
       "0   32 GB ROM |10.16 cm (4 inch) Retina Display12M...  \n",
       "1   32 GB ROM |10.16 cm (4 inch) Retina Display12M...  \n",
       "2   32 GB ROM |11.94 cm (4.7 inch) Retina HD Displ...  \n",
       "3   32 GB ROM |13.97 cm (5.5 inch) Retina HD Displ...  \n",
       "4   32 GB ROM |11.94 cm (4.7 inch) Retina HD Displ...  \n",
       "5   32 GB ROM |10.16 cm (4 inch) Retina Display12M...  \n",
       "6   32 GB ROM |11.94 cm (4.7 inch) Retina HD Displ...  \n",
       "7   32 GB ROM |10.16 cm (4 inch) Retina Display12M...  \n",
       "8   64 GB ROM |16.51 cm (6.5 inch) Super Retina HD...  \n",
       "9   256 GB ROM |16.51 cm (6.5 inch) Super Retina H...  \n",
       "10  32 GB ROM |11.94 cm (4.7 inch) Retina HD Displ...  \n",
       "11  32 GB ROM |13.97 cm (5.5 inch) Retina HD Displ...  \n",
       "12  32 GB ROM |11.94 cm (4.7 inch) Retina HD Displ...  \n",
       "13  32 GB ROM |11.94 cm (4.7 inch) Retina HD Displ...  \n",
       "14  64 GB ROM |16.51 cm (6.5 inch) Super Retina HD...  \n",
       "15  64 GB ROM |14.73 cm (5.8 inch) Super Retina HD...  \n",
       "16  64 GB ROM |14.73 cm (5.8 inch) Super Retina HD...  \n",
       "17  32 GB ROM |13.97 cm (5.5 inch) Retina HD Displ...  \n",
       "18  32 GB ROM |11.94 cm (4.7 inch) Retina HD Displ...  \n",
       "19  256 GB ROM |14.73 cm (5.8 inch) Super Retina H...  \n",
       "20  64 GB ROM |14.73 cm (5.8 inch) Super Retina HD...  \n",
       "21  32 GB ROM |13.97 cm (5.5 inch) Retina HD Displ...  \n",
       "22  256 GB ROM |16.51 cm (6.5 inch) Super Retina H...  \n",
       "23  256 GB ROM |14.73 cm (5.8 inch) Super Retina H...  "
      ]
     },
     "execution_count": 56,
     "metadata": {},
     "output_type": "execute_result"
    }
   ],
   "source": [
    "df"
   ]
  },
  {
   "cell_type": "code",
   "execution_count": null,
   "metadata": {},
   "outputs": [],
   "source": []
  }
 ],
 "metadata": {
  "kernelspec": {
   "display_name": "Python 3",
   "language": "python",
   "name": "python3"
  },
  "language_info": {
   "codemirror_mode": {
    "name": "ipython",
    "version": 3
   },
   "file_extension": ".py",
   "mimetype": "text/x-python",
   "name": "python",
   "nbconvert_exporter": "python",
   "pygments_lexer": "ipython3",
   "version": "3.6.5"
  }
 },
 "nbformat": 4,
 "nbformat_minor": 2
}
